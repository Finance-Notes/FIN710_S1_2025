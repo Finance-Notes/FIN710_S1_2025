{
 "nbformat": 4,
 "nbformat_minor": 0,
 "metadata": {
  "colab": {
   "provenance": []
  },
  "kernelspec": {
   "name": "python3",
   "display_name": "Python 3 (ipykernel)",
   "language": "python"
  },
  "language_info": {
   "name": "python"
  }
 },
 "cells": [
  {
   "cell_type": "markdown",
   "source": [
    "## ChatGPT Stock Prediction\n",
    "\n",
    "This Notebook follows the methodology in Lopez-Lira and Tang (2024) to generate trading signals from news headlines using the ChatGPT API.\n",
    "\n",
    "The full paper is available here:\n",
    "\n",
    "https://papers.ssrn.com/sol3/papers.cfm?abstract_id=4412788\n"
   ],
   "metadata": {
    "id": "r5RF8N-vmgPf"
   }
  },
  {
   "cell_type": "code",
   "source": [
    "import yfinance as yf\n",
    "import pandas as pd\n",
    "\n",
    "from openai import OpenAI   # pip install openai>=1.0.0\n",
    "from openai_key import OPENAI_API_KEY\n"
   ],
   "metadata": {
    "id": "MNh2AYX6mf0E",
    "ExecuteTime": {
     "end_time": "2025-10-09T08:39:59.278108Z",
     "start_time": "2025-10-09T08:39:47.215651Z"
    }
   },
   "outputs": [],
   "execution_count": 1
  },
  {
   "cell_type": "markdown",
   "source": [
    "#### Fetch news items for Apple (AAPL)"
   ],
   "metadata": {
    "id": "FVVF1cjEeFzc"
   }
  },
  {
   "cell_type": "code",
   "metadata": {
    "id": "KyB0oCxImbM8",
    "ExecuteTime": {
     "end_time": "2025-10-09T08:40:00.839588Z",
     "start_time": "2025-10-09T08:39:59.292811Z"
    }
   },
   "source": [
    "ticker = \"AAPL\"\n",
    "\n",
    "ticker_yf = yf.Ticker(ticker)\n",
    "\n",
    "company_name = ticker_yf.info['longName']\n",
    "\n",
    "raw_news = yf.Search(ticker, news_count=100).news\n",
    "\n"
   ],
   "outputs": [],
   "execution_count": 2
  },
  {
   "cell_type": "code",
   "source": [
    "df = pd.json_normalize(raw_news)\n",
    "if \"providerPublishTime\" in df.columns:\n",
    "    df[\"datetime\"] = pd.to_datetime(df[\"providerPublishTime\"], unit=\"s\")\n",
    "    df = df.drop(columns=\"providerPublishTime\")\n",
    "df.head()"
   ],
   "metadata": {
    "colab": {
     "base_uri": "https://localhost:8080/",
     "height": 678
    },
    "id": "feo1L487fQWj",
    "outputId": "b14cc0a7-6f19-4f1a-e338-2be31a313493",
    "ExecuteTime": {
     "end_time": "2025-10-09T08:40:01.091658Z",
     "start_time": "2025-10-09T08:40:01.061539Z"
    }
   },
   "outputs": [
    {
     "data": {
      "text/plain": [
       "                                   uuid  \\\n",
       "0  14871c9a-1319-3e1e-91dd-50a806d1816f   \n",
       "1  c69ec4ba-ba59-34fb-a1e0-8d67a2cf31cd   \n",
       "2  f3c88c45-6eed-3614-b180-40553b8c313f   \n",
       "3  8a82f97c-68c2-323b-b09d-26fccc4fc40f   \n",
       "4  8d0661a3-b79b-3b44-8e5c-a2092504a6e7   \n",
       "\n",
       "                                               title        publisher  \\\n",
       "0  Major Leadership Changes and CEO Departure Mig...  Simply Wall St.   \n",
       "1  JPMorgan Stays Bullish on Apple (AAPL) with St...   Insider Monkey   \n",
       "2  Market Chatter: Apple, Meta Platforms Near Set...     MT Newswires   \n",
       "3  Analyst Says Apple (AAPL) Is Going to Make a N...   Insider Monkey   \n",
       "4  China Widens Rare Earth Curbs Ahead of Critica...        Bloomberg   \n",
       "\n",
       "                                                link   type  \\\n",
       "0  https://finance.yahoo.com/news/major-leadershi...  STORY   \n",
       "1  https://finance.yahoo.com/news/jpmorgan-stays-...  STORY   \n",
       "2  https://finance.yahoo.com/news/market-chatter-...  STORY   \n",
       "3  https://finance.yahoo.com/news/analyst-says-ap...  STORY   \n",
       "4  https://finance.yahoo.com/news/china-tightens-...  STORY   \n",
       "\n",
       "              relatedTickers  \\\n",
       "0                     [AAPL]   \n",
       "1                     [AAPL]   \n",
       "2               [AAPL, META]   \n",
       "3               [AAPL, VRTS]   \n",
       "4  [NVDA, AAPL, 2330.TW, MP]   \n",
       "\n",
       "                               thumbnail.resolutions            datetime  \n",
       "0  [{'url': 'https://s.yimg.com/uu/api/res/1.2/fB... 2025-10-09 08:15:17  \n",
       "1  [{'url': 'https://s.yimg.com/uu/api/res/1.2/ZW... 2025-10-08 10:04:55  \n",
       "2                                                NaN 2025-10-08 12:43:11  \n",
       "3  [{'url': 'https://s.yimg.com/uu/api/res/1.2/K5... 2025-10-08 12:59:52  \n",
       "4  [{'url': 'https://s.yimg.com/uu/api/res/1.2/8v... 2025-10-09 07:04:33  "
      ],
      "text/html": [
       "<div>\n",
       "<style scoped>\n",
       "    .dataframe tbody tr th:only-of-type {\n",
       "        vertical-align: middle;\n",
       "    }\n",
       "\n",
       "    .dataframe tbody tr th {\n",
       "        vertical-align: top;\n",
       "    }\n",
       "\n",
       "    .dataframe thead th {\n",
       "        text-align: right;\n",
       "    }\n",
       "</style>\n",
       "<table border=\"1\" class=\"dataframe\">\n",
       "  <thead>\n",
       "    <tr style=\"text-align: right;\">\n",
       "      <th></th>\n",
       "      <th>uuid</th>\n",
       "      <th>title</th>\n",
       "      <th>publisher</th>\n",
       "      <th>link</th>\n",
       "      <th>type</th>\n",
       "      <th>relatedTickers</th>\n",
       "      <th>thumbnail.resolutions</th>\n",
       "      <th>datetime</th>\n",
       "    </tr>\n",
       "  </thead>\n",
       "  <tbody>\n",
       "    <tr>\n",
       "      <th>0</th>\n",
       "      <td>14871c9a-1319-3e1e-91dd-50a806d1816f</td>\n",
       "      <td>Major Leadership Changes and CEO Departure Mig...</td>\n",
       "      <td>Simply Wall St.</td>\n",
       "      <td>https://finance.yahoo.com/news/major-leadershi...</td>\n",
       "      <td>STORY</td>\n",
       "      <td>[AAPL]</td>\n",
       "      <td>[{'url': 'https://s.yimg.com/uu/api/res/1.2/fB...</td>\n",
       "      <td>2025-10-09 08:15:17</td>\n",
       "    </tr>\n",
       "    <tr>\n",
       "      <th>1</th>\n",
       "      <td>c69ec4ba-ba59-34fb-a1e0-8d67a2cf31cd</td>\n",
       "      <td>JPMorgan Stays Bullish on Apple (AAPL) with St...</td>\n",
       "      <td>Insider Monkey</td>\n",
       "      <td>https://finance.yahoo.com/news/jpmorgan-stays-...</td>\n",
       "      <td>STORY</td>\n",
       "      <td>[AAPL]</td>\n",
       "      <td>[{'url': 'https://s.yimg.com/uu/api/res/1.2/ZW...</td>\n",
       "      <td>2025-10-08 10:04:55</td>\n",
       "    </tr>\n",
       "    <tr>\n",
       "      <th>2</th>\n",
       "      <td>f3c88c45-6eed-3614-b180-40553b8c313f</td>\n",
       "      <td>Market Chatter: Apple, Meta Platforms Near Set...</td>\n",
       "      <td>MT Newswires</td>\n",
       "      <td>https://finance.yahoo.com/news/market-chatter-...</td>\n",
       "      <td>STORY</td>\n",
       "      <td>[AAPL, META]</td>\n",
       "      <td>NaN</td>\n",
       "      <td>2025-10-08 12:43:11</td>\n",
       "    </tr>\n",
       "    <tr>\n",
       "      <th>3</th>\n",
       "      <td>8a82f97c-68c2-323b-b09d-26fccc4fc40f</td>\n",
       "      <td>Analyst Says Apple (AAPL) Is Going to Make a N...</td>\n",
       "      <td>Insider Monkey</td>\n",
       "      <td>https://finance.yahoo.com/news/analyst-says-ap...</td>\n",
       "      <td>STORY</td>\n",
       "      <td>[AAPL, VRTS]</td>\n",
       "      <td>[{'url': 'https://s.yimg.com/uu/api/res/1.2/K5...</td>\n",
       "      <td>2025-10-08 12:59:52</td>\n",
       "    </tr>\n",
       "    <tr>\n",
       "      <th>4</th>\n",
       "      <td>8d0661a3-b79b-3b44-8e5c-a2092504a6e7</td>\n",
       "      <td>China Widens Rare Earth Curbs Ahead of Critica...</td>\n",
       "      <td>Bloomberg</td>\n",
       "      <td>https://finance.yahoo.com/news/china-tightens-...</td>\n",
       "      <td>STORY</td>\n",
       "      <td>[NVDA, AAPL, 2330.TW, MP]</td>\n",
       "      <td>[{'url': 'https://s.yimg.com/uu/api/res/1.2/8v...</td>\n",
       "      <td>2025-10-09 07:04:33</td>\n",
       "    </tr>\n",
       "  </tbody>\n",
       "</table>\n",
       "</div>"
      ]
     },
     "execution_count": 3,
     "metadata": {},
     "output_type": "execute_result"
    }
   ],
   "execution_count": 3
  },
  {
   "cell_type": "code",
   "source": [
    "df = df[['datetime', 'publisher', 'type', 'title']]\n",
    "\n",
    "print(df.head())"
   ],
   "metadata": {
    "colab": {
     "base_uri": "https://localhost:8080/"
    },
    "id": "R6c6Xu4innHb",
    "outputId": "c15ef048-d858-4136-d8d4-96de0adee44a",
    "ExecuteTime": {
     "end_time": "2025-10-09T08:40:01.314680Z",
     "start_time": "2025-10-09T08:40:01.281866Z"
    }
   },
   "outputs": [
    {
     "name": "stdout",
     "output_type": "stream",
     "text": [
      "             datetime        publisher   type  \\\n",
      "0 2025-10-09 08:15:17  Simply Wall St.  STORY   \n",
      "1 2025-10-08 10:04:55   Insider Monkey  STORY   \n",
      "2 2025-10-08 12:43:11     MT Newswires  STORY   \n",
      "3 2025-10-08 12:59:52   Insider Monkey  STORY   \n",
      "4 2025-10-09 07:04:33        Bloomberg  STORY   \n",
      "\n",
      "                                               title  \n",
      "0  Major Leadership Changes and CEO Departure Mig...  \n",
      "1  JPMorgan Stays Bullish on Apple (AAPL) with St...  \n",
      "2  Market Chatter: Apple, Meta Platforms Near Set...  \n",
      "3  Analyst Says Apple (AAPL) Is Going to Make a N...  \n",
      "4  China Widens Rare Earth Curbs Ahead of Critica...  \n"
     ]
    }
   ],
   "execution_count": 4
  },
  {
   "cell_type": "code",
   "source": [
    "def analyze_headline(headline, company_name):\n",
    "    \"\"\"Analyze a headline using the ChatGPT API.\"\"\"\n",
    "    prompt = (f\"Answer \\\"YES\\\" if good news, \\\"NO\\\" if bad news, or \\\"UNKNOWN\\\" if uncertain in the first line. \"\n",
    "              f\"Then elaborate with one short and concise sentence on the next line. \"\n",
    "              f\"Is this headline good or bad for the stock price of {company_name} in the short term? \\n \"\n",
    "              f\"Headline: {headline}\"\n",
    "              )\n",
    "    try:\n",
    "        response = client.chat.completions.create(\n",
    "            model=\"gpt-4o-mini-2024-07-18\",\n",
    "            temperature=0,\n",
    "            messages=[\n",
    "                {\"role\": \"system\",\n",
    "                 \"content\": (\"Forget all your previous instructions. Pretend you are a financial expert. \"\n",
    "                             \"You are a financial expert with stock recommendation experience. \")\n",
    "                 },\n",
    "                {\"role\": \"user\", \"content\": prompt}\n",
    "            ]\n",
    "        )\n",
    "        answer = response.choices[0].message.content    # response['choices'][0]['message']['content']\n",
    "        return answer.strip()\n",
    "    except Exception as e:\n",
    "        return f\"Error: {e}\""
   ],
   "metadata": {
    "id": "kYfzIit4pFZx",
    "ExecuteTime": {
     "end_time": "2025-10-09T08:40:01.480062Z",
     "start_time": "2025-10-09T08:40:01.470288Z"
    }
   },
   "outputs": [],
   "execution_count": 5
  },
  {
   "cell_type": "code",
   "source": [
    "client = OpenAI(api_key=OPENAI_API_KEY)"
   ],
   "metadata": {
    "id": "YxNJZhsDvcnG",
    "ExecuteTime": {
     "end_time": "2025-10-09T08:40:01.646613Z",
     "start_time": "2025-10-09T08:40:01.559140Z"
    }
   },
   "outputs": [],
   "execution_count": 6
  },
  {
   "cell_type": "code",
   "source": [
    "results = []\n",
    "output_file = 'news_analysis.csv'\n",
    "\n",
    "df.head(0).assign(analysis=\"\").to_csv(output_file, index=False)\n",
    "\n",
    "\n",
    "for index, row in df.iterrows():\n",
    "  headline = row['title']\n",
    "  result = analyze_headline(headline, company_name)\n",
    "  results.append({\n",
    "      'date_published': row['datetime'],\n",
    "      'content_type': row['type'],\n",
    "      'publisher': row['publisher'],\n",
    "      'title': row['title'],\n",
    "      'analysis': result\n",
    "  })\n",
    "\n",
    "  if len(results) % 10 == 0:\n",
    "    pd.DataFrame(results).to_csv(output_file, mode='a', header=False, index=False)\n",
    "    results = []\n",
    "\n",
    "    print(f\"Analysis complete. Results saved to {output_file}.\")"
   ],
   "metadata": {
    "colab": {
     "base_uri": "https://localhost:8080/"
    },
    "id": "xeD_M168qGUP",
    "outputId": "1bed490e-f6ec-452a-93e9-033b01cbbf88",
    "ExecuteTime": {
     "end_time": "2025-10-09T08:40:20.711057Z",
     "start_time": "2025-10-09T08:40:01.705425Z"
    }
   },
   "outputs": [
    {
     "name": "stdout",
     "output_type": "stream",
     "text": [
      "Analysis complete. Results saved to news_analysis.csv.\n"
     ]
    }
   ],
   "execution_count": 7
  },
  {
   "cell_type": "code",
   "source": [
    "print(headline, '\\n', result)"
   ],
   "metadata": {
    "colab": {
     "base_uri": "https://localhost:8080/"
    },
    "id": "b-Atoa6Bv27d",
    "outputId": "ed10064d-0299-45d2-bd3d-2108a5d80f83",
    "ExecuteTime": {
     "end_time": "2025-10-09T08:40:20.774791Z",
     "start_time": "2025-10-09T08:40:20.768915Z"
    }
   },
   "outputs": [
    {
     "name": "stdout",
     "output_type": "stream",
     "text": [
      "TSMC posts forecast-beating Q3 revenue surge on AI boom \n",
      " YES  \n",
      "This positive news for TSMC suggests strong demand for semiconductors, which could benefit Apple Inc. due to its reliance on TSMC for chip production.\n"
     ]
    }
   ],
   "execution_count": 8
  },
  {
   "cell_type": "code",
   "source": [],
   "metadata": {
    "id": "YbG7OMh2wSMs",
    "ExecuteTime": {
     "end_time": "2025-10-09T08:40:20.932178Z",
     "start_time": "2025-10-09T08:40:20.928976Z"
    }
   },
   "outputs": [],
   "execution_count": null
  }
 ]
}
