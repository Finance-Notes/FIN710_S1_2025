{
 "nbformat": 4,
 "nbformat_minor": 0,
 "metadata": {
  "colab": {
   "provenance": []
  },
  "kernelspec": {
   "name": "python3",
   "display_name": "Python 3 (ipykernel)",
   "language": "python"
  },
  "language_info": {
   "name": "python"
  }
 },
 "cells": [
  {
   "cell_type": "markdown",
   "source": [
    "## ChatGPT Investment Advice\n",
    "\n",
    "#### This script automates investment advice using the ChatGPT API.\n",
    "\n",
    "Using the Python script together with the ChatGPT API allows this chatbot to be used on an commercial scale. I.e., it fully automates investment advice and can easy be integrated into a webpage or other such user interface.\n",
    "\n",
    "The chatbot replicates front-of-house investment advice that you might recieve at a commerial bank.  "
   ],
   "metadata": {
    "id": "oTp7ndoBEt18"
   }
  },
  {
   "cell_type": "code",
   "metadata": {
    "id": "4QgBS_7kI56g",
    "ExecuteTime": {
     "end_time": "2025-10-09T08:34:29.992892Z",
     "start_time": "2025-10-09T08:34:27.750252Z"
    }
   },
   "source": [
    "import json\n",
    "import os\n",
    "from collections import OrderedDict\n",
    "from datetime import datetime\n",
    "from pathlib import Path\n",
    "\n",
    "from openai import OpenAI   # pip install openai>=1.0.0\n",
    "from openai_key import OPENAI_API_KEY\n"
   ],
   "outputs": [],
   "execution_count": 2
  },
  {
   "cell_type": "markdown",
   "source": [
    "#### Step 1: Define the questions"
   ],
   "metadata": {
    "id": "xvpxRoMEI-00"
   }
  },
  {
   "cell_type": "code",
   "source": [
    "QUESTIONS = OrderedDict({\n",
    "    \"objectives_time_horizon\":\n",
    "        (\"1. Investment Objectives & Horizon:\\n\"\n",
    "         \"   What are your specific financial goals (retirement, property \"\n",
    "         \"acquisition, education funding), and what is your anticipated timeline for \"\n",
    "         \"accessing these funds?\\n> \"),\n",
    "\n",
    "    \"risk_tolerance_capacity\":\n",
    "        (\"2. Risk Tolerance Assessment:\\n\"\n",
    "         \"   What level of portfolio volatility are you comfortable with, and what \"\n",
    "         \"maximum temporary decline (percentage or monetary value) could you tolerate \"\n",
    "         \"without altering your investment strategy?\\n> \"),\n",
    "\n",
    "    \"current_financial_position\":\n",
    "        (\"3. Financial Position Overview:\\n\"\n",
    "         \"   Please summarize your current income, major assets, liabilities, and \"\n",
    "         \"emergency reserves to determine your optimal investment capacity.\\n> \"),\n",
    "\n",
    "    \"liquidity_cash_flow_needs\":\n",
    "        (\"4. Liquidity Requirements:\\n\"\n",
    "         \"   Do you anticipate significant expenditures (property down payment, \"\n",
    "         \"healthcare costs, career transition) within the next 1-5 years that would \"\n",
    "         \"necessitate liquidity from this portfolio?\\n> \"),\n",
    "\n",
    "    \"constraints_preferences_tax\":\n",
    "        (\"5. Investment Parameters:\\n\"\n",
    "         \"   Please identify any relevant investment restrictions, ESG preferences,  \"\n",
    "         \"tax considerations, or jurisdictional factors that should guide your \"\n",
    "         \"portfolio construction.\\n> \"),\n",
    "})"
   ],
   "metadata": {
    "id": "4z8pcLryJC6X",
    "ExecuteTime": {
     "end_time": "2025-10-09T08:34:30.025707Z",
     "start_time": "2025-10-09T08:34:30.019688Z"
    }
   },
   "outputs": [],
   "execution_count": 3
  },
  {
   "cell_type": "markdown",
   "source": [
    "#### Step 2. Collect responses from the user"
   ],
   "metadata": {
    "id": "zPK61iXnJHs7"
   }
  },
  {
   "cell_type": "code",
   "source": [
    "def ask_questions() -> OrderedDict:\n",
    "    print(\"\\n--- Investor Profile Questionnaire ---\\n\")\n",
    "    answers = OrderedDict()\n",
    "    for key, prompt in QUESTIONS.items():\n",
    "        answers[key] = input(prompt).strip()\n",
    "        print(\"\\n\")\n",
    "    return answers"
   ],
   "metadata": {
    "id": "2jyRK-oPJJAZ",
    "ExecuteTime": {
     "end_time": "2025-10-09T08:34:30.042714Z",
     "start_time": "2025-10-09T08:34:30.037262Z"
    }
   },
   "outputs": [],
   "execution_count": 4
  },
  {
   "cell_type": "code",
   "source": [
    "def save_json(data: OrderedDict, folder: str = \"client_profiles\") -> Path:\n",
    "    Path(folder).mkdir(exist_ok=True)\n",
    "    filename = Path(folder) / f\"profile_{datetime.now():%Y%m%d_%H%M%S}.json\"\n",
    "    with open(filename, \"w\", encoding=\"utf-8\") as f:\n",
    "        json.dump(data, f, indent=2)\n",
    "    return filename"
   ],
   "metadata": {
    "id": "5wNCLeoAJLIq",
    "ExecuteTime": {
     "end_time": "2025-10-09T08:34:30.061095Z",
     "start_time": "2025-10-09T08:34:30.056026Z"
    }
   },
   "outputs": [],
   "execution_count": 5
  },
  {
   "cell_type": "code",
   "source": [
    "answers = ask_questions()"
   ],
   "metadata": {
    "colab": {
     "base_uri": "https://localhost:8080/"
    },
    "id": "NHl2WxAWJN3X",
    "outputId": "b994b5f3-f14c-41ca-ae38-96199a0376d3",
    "ExecuteTime": {
     "end_time": "2025-10-09T08:36:43.955504Z",
     "start_time": "2025-10-09T08:34:30.077705Z"
    }
   },
   "outputs": [
    {
     "name": "stdout",
     "output_type": "stream",
     "text": [
      "\n",
      "--- Investor Profile Questionnaire ---\n",
      "\n",
      "\n",
      "\n",
      "\n",
      "\n",
      "\n",
      "\n",
      "\n",
      "\n",
      "\n",
      "\n"
     ]
    }
   ],
   "execution_count": 6
  },
  {
   "cell_type": "code",
   "source": [
    "save_path = save_json(answers)\n",
    "print(f\"\\nResponses saved to {save_path.resolve()}\\n\")"
   ],
   "metadata": {
    "colab": {
     "base_uri": "https://localhost:8080/"
    },
    "id": "49HNGg-bJPdM",
    "outputId": "38b075a9-b3ee-4e0c-ff4b-617581729c0d",
    "ExecuteTime": {
     "end_time": "2025-10-09T08:36:44.059050Z",
     "start_time": "2025-10-09T08:36:44.052188Z"
    }
   },
   "outputs": [
    {
     "name": "stdout",
     "output_type": "stream",
     "text": [
      "\n",
      "Responses saved to /Users/justincase/PycharmProjects/FIN710/Lecture7/client_profiles/profile_20251009_213644.json\n",
      "\n"
     ]
    }
   ],
   "execution_count": 7
  },
  {
   "cell_type": "markdown",
   "source": [
    "#### Step 3. Build the prompt & call ChatGPT"
   ],
   "metadata": {
    "id": "sVuxPWG9JoBi"
   }
  },
  {
   "cell_type": "code",
   "source": [
    "SYSTEM_PROMPT = (\n",
    "    \"Forget all your previous instructions. Pretend you are an expert financial advisor. \"\n",
    "    \"You are an expert financial advisor with investment and portfolio allocation experience.\"\n",
    ")\n",
    "\n",
    "def call_chatgpt(q_and_a: OrderedDict, model: str = \"gpt-4o-mini\") -> str:\n",
    "    \"\"\"Send the Q&A context plus the instruction to ChatGPT and return the reply.\"\"\"\n",
    "    # Convert Q&A to a readable block\n",
    "    qa_block = \"\\n\".join(\n",
    "        f\"{idx}. Q: {QUESTIONS[key].split(':')[0]}  A: {answer}\"\n",
    "        for idx, (key, answer) in enumerate(q_and_a.items(), start=1)\n",
    "    )\n",
    "\n",
    "    user_message = (\n",
    "        f\"Your client has responsed to five onboarding questions as follows:\\n{qa_block}\\n\\n\"\n",
    "        \"Given the situation described by the responses to the five investment questions, \"\n",
    "        \"what investment strategy should be followed? Provide two clear and concise sentences \"\n",
    "        \"that explain this choice of strategy without financial jargon.\"\n",
    "        \"Subsequently, identify three suitable funds.\"\n",
    "    )\n",
    "\n",
    "    response = client.chat.completions.create(\n",
    "        model=model,\n",
    "        messages=[\n",
    "            {\"role\": \"system\", \"content\": SYSTEM_PROMPT},\n",
    "            {\"role\": \"user\", \"content\": user_message},\n",
    "        ],\n",
    "        temperature=0  # deterministic\n",
    "    )\n",
    "\n",
    "    return response.choices[0].message.content.strip()"
   ],
   "metadata": {
    "id": "CQjoIEiBJmv_",
    "ExecuteTime": {
     "end_time": "2025-10-09T08:36:44.111206Z",
     "start_time": "2025-10-09T08:36:44.103241Z"
    }
   },
   "outputs": [],
   "execution_count": 8
  },
  {
   "cell_type": "code",
   "source": [
    "client = OpenAI(api_key=OPENAI_API_KEY)\n",
    "\n",
    "strategy = call_chatgpt(answers)"
   ],
   "metadata": {
    "id": "2iHIIhhbJtAw",
    "ExecuteTime": {
     "end_time": "2025-10-09T08:36:50.202370Z",
     "start_time": "2025-10-09T08:36:44.128113Z"
    }
   },
   "outputs": [],
   "execution_count": 9
  },
  {
   "cell_type": "code",
   "source": [
    "print(strategy)"
   ],
   "metadata": {
    "colab": {
     "base_uri": "https://localhost:8080/"
    },
    "id": "BRf56kGhKwrI",
    "outputId": "ff368695-5e32-4034-8400-18ec299b3f57",
    "ExecuteTime": {
     "end_time": "2025-10-09T08:36:50.231919Z",
     "start_time": "2025-10-09T08:36:50.222671Z"
    }
   },
   "outputs": [
    {
     "name": "stdout",
     "output_type": "stream",
     "text": [
      "Based on your goal to retire in 10 years and your willingness to accept some risk, a growth-oriented investment strategy is appropriate. This means focusing on investments that have the potential for higher returns, even if they come with some short-term fluctuations.\n",
      "\n",
      "Here are three suitable funds for your investment strategy:\n",
      "\n",
      "1. **Fisher Funds Growth Fund** - This fund invests in a diversified portfolio of growth assets, aiming for long-term capital appreciation.\n",
      "2. **Smartshares NZ Top 50 ETF** - This exchange-traded fund tracks the performance of the top 50 companies listed on the NZX, providing exposure to the New Zealand equity market.\n",
      "3. **Vanguard Global Growth Fund** - This fund invests in a diversified range of global growth companies, offering potential for higher returns through international exposure.\n"
     ]
    }
   ],
   "execution_count": 10
  },
  {
   "cell_type": "code",
   "source": [],
   "metadata": {
    "id": "NnkdzNjtK3EK",
    "ExecuteTime": {
     "end_time": "2025-10-09T08:36:50.270168Z",
     "start_time": "2025-10-09T08:36:50.267562Z"
    }
   },
   "outputs": [],
   "execution_count": null
  }
 ]
}
